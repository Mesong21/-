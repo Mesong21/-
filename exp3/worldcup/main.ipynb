{
 "cells": [
  {
   "cell_type": "code",
   "execution_count": 13,
   "metadata": {},
   "outputs": [],
   "source": [
    "#  导入必要的库\n",
    "import pandas as pd\n",
    "from pyecharts import options as opts\n",
    "from pyecharts.charts import Bar\n",
    "from pyecharts.charts import Pie\n",
    "from pyecharts.charts import Tab\n",
    "import math\n",
    "from pyecharts.charts import Line, Grid\n",
    "from pyecharts.charts import Page\n",
    "\n",
    "from matplotlib.font_manager import FontProperties\n",
    "myfont = FontProperties(fname=r'C:\\\\Windows\\\\Fonts\\\\simhei.ttf', size=14)\n",
    "\n",
    "#  加载数据集\n",
    "world_cups_summary = pd.read_csv('data/WorldCupsSummary.csv', encoding='ISO-8859-1')\n",
    "world_cup_matches = pd.read_csv('data/WorldCupMatches.csv', encoding='ISO-8859-1')\n",
    "world_cup_players = pd.read_csv('data/WorldCupPlayers.csv', encoding='ISO-8859-1')\n",
    "\n",
    "#  数据预处理\n",
    "world_cups_summary = world_cups_summary.fillna('')\n",
    "world_cup_matches = world_cup_matches.fillna('')\n",
    "world_cup_players = world_cup_players.fillna('')\n"
   ]
  },
  {
   "cell_type": "markdown",
   "metadata": {},
   "source": [
    "## 地区"
   ]
  },
  {
   "cell_type": "code",
   "execution_count": 29,
   "metadata": {},
   "outputs": [
    {
     "data": {
      "text/plain": [
       "'d:\\\\D\\\\2023_Fall\\\\required_course\\\\dvisual\\\\exps\\\\exp3\\\\worldcup\\\\results\\\\世界杯主办国所在大洲分布.html'"
      ]
     },
     "execution_count": 29,
     "metadata": {},
     "output_type": "execute_result"
    }
   ],
   "source": [
    "\n",
    "# 1. 计算每个大洲举办世界杯的次数\n",
    "continent_counts = world_cups_summary['HostContinent'].value_counts()\n",
    "\n",
    "# 创建饼图\n",
    "pie = (\n",
    "    Pie()\n",
    "    .add(\"\", [list(z) for z in zip(continent_counts.index.tolist(), continent_counts.values.tolist())])\n",
    "    .set_global_opts(title_opts=opts.TitleOpts(title=\"世界杯主办国所在大洲分布\"))\n",
    "    .set_series_opts(label_opts=opts.LabelOpts(formatter=\"{b}: {c} ({d}%)\"))\n",
    ")\n",
    "\n",
    "# 显示图表\n",
    "pie.render('.\\\\results\\\\世界杯主办国所在大洲分布.html')\n"
   ]
  },
  {
   "cell_type": "markdown",
   "metadata": {},
   "source": [
    "## 历届世界杯"
   ]
  },
  {
   "cell_type": "code",
   "execution_count": 30,
   "metadata": {},
   "outputs": [
    {
     "data": {
      "text/plain": [
       "'d:\\\\D\\\\2023_Fall\\\\required_course\\\\dvisual\\\\exps\\\\exp3\\\\worldcup\\\\results\\\\历届世界杯总进球数折线图.html'"
      ]
     },
     "execution_count": 30,
     "metadata": {},
     "output_type": "execute_result"
    }
   ],
   "source": [
    "# 2. 每届世界杯的总进球数的折线图\n",
    "# 转换数据类型\n",
    "x = world_cups_summary['Year'].astype(str).tolist()\n",
    "y = world_cups_summary['GoalsScored'].astype(int).tolist()\n",
    "# print(type(x[0]))\n",
    "# print(type(y[0]))\n",
    "# 创建折线图\n",
    "line = (\n",
    "  Line()\n",
    "  .add_xaxis(x)\n",
    "  .add_yaxis(\"总进球数\", y, markpoint_opts=opts.MarkPointOpts(data=[opts.MarkPointItem(type_=\"max\", name=\"最大值\")]))\n",
    "  .set_global_opts(title_opts=opts.TitleOpts(title=\"历届世界杯总进球数折线图\"))\n",
    ")\n",
    "\n",
    "# 显示图表\n",
    "line.render('.\\\\results\\\\历届世界杯总进球数折线图.html')\n"
   ]
  },
  {
   "cell_type": "code",
   "execution_count": 16,
   "metadata": {},
   "outputs": [
    {
     "data": {
      "text/plain": [
       "'d:\\\\D\\\\2023_Fall\\\\required_course\\\\dvisual\\\\exps\\\\exp3\\\\worldcup\\\\results\\\\历届世界杯场均进球数、现场观众总人数与总参赛队伍数折线图.html'"
      ]
     },
     "execution_count": 16,
     "metadata": {},
     "output_type": "execute_result"
    }
   ],
   "source": [
    "# 历届世界杯场均进球数折线图\n",
    "# 计算每届世界杯的场均进球数\n",
    "world_cups_summary['AverageGoals'] = world_cups_summary['GoalsScored'] / world_cups_summary['MatchesPlayed']\n",
    "\n",
    "# 获取x和y的列表\n",
    "x = list(map(str, world_cups_summary['Year'].tolist()))\n",
    "y1 = list(map(lambda x: round(x, 1), world_cups_summary['AverageGoals'].tolist()))\n",
    "y2 = world_cups_summary['Attendance'].tolist()\n",
    "y3 = world_cups_summary['QualifiedTeams'].tolist()\n",
    "\n",
    "# 创建折线图\n",
    "line1 = (\n",
    "  Line()\n",
    "  .add_xaxis(x)\n",
    "  .add_yaxis(\"场均进球数\", y1, markpoint_opts=opts.MarkPointOpts(data=[opts.MarkPointItem(type_=\"max\", name=\"最大值\")]),\n",
    "             label_opts=opts.LabelOpts(is_show=False)\n",
    "             )\n",
    "  .set_global_opts(title_opts=opts.TitleOpts(title='历届世界杯场均进球数折线图')\n",
    "                   )\n",
    ")\n",
    "\n",
    "line2 = (\n",
    "  Line()\n",
    "  .add_xaxis(x)\n",
    "  .add_yaxis(\"现场观众总人数\", y2, \n",
    "             markpoint_opts=opts.MarkPointOpts(data=[opts.MarkPointItem(type_=\"max\", name=\"最大值\")]),\n",
    "             label_opts=opts.LabelOpts(is_show=False)\n",
    "             )\n",
    "  .set_global_opts(title_opts=opts.TitleOpts(title='历届世界杯现场观众总人数折线图')\n",
    "                   )\n",
    ")\n",
    "\n",
    "# 创建第三个折线图\n",
    "line3 = (\n",
    "  Line()\n",
    "  .add_xaxis(x)\n",
    "  .add_yaxis(\"总参赛队伍数\", y3, label_opts=opts.LabelOpts(is_show=False), markpoint_opts=opts.MarkPointOpts(data=[opts.MarkPointItem(type_=\"max\", name=\"最大值\")]))\n",
    "  .set_global_opts(title_opts=opts.TitleOpts(title='历届世界杯总参赛队伍数折线图')\n",
    "                   )\n",
    ")\n",
    "# 创建Page布局\n",
    "page = Page()\n",
    "\n",
    "# 将折线图添加到Page布局\n",
    "page.add(line1)\n",
    "page.add(line2)\n",
    "page.add(line3)\n",
    "\n",
    "# 显示折线图\n",
    "page.render(f\".\\\\results\\\\历届世界杯场均进球数、现场观众总人数与总参赛队伍数折线图.html\")\n"
   ]
  },
  {
   "cell_type": "markdown",
   "metadata": {},
   "source": [
    "## 队伍"
   ]
  },
  {
   "cell_type": "markdown",
   "metadata": {},
   "source": [
    "### 队伍场均进球数和牌数"
   ]
  },
  {
   "cell_type": "code",
   "execution_count": 32,
   "metadata": {},
   "outputs": [
    {
     "data": {
      "text/plain": [
       "'d:\\\\D\\\\2023_Fall\\\\required_course\\\\dvisual\\\\exps\\\\exp3\\\\worldcup\\\\results\\\\国家队场均进球数和红黄牌数.html'"
      ]
     },
     "execution_count": 32,
     "metadata": {},
     "output_type": "execute_result"
    }
   ],
   "source": [
    "\n",
    "# 计算每个国家队的总进球数\n",
    "home_goals = world_cup_matches.groupby('Home Team Initials')['Home Team Goals'].sum()\n",
    "away_goals = world_cup_matches.groupby('Away Team Initials')['Away Team Goals'].sum()\n",
    "total_goals = home_goals.add(away_goals, fill_value=0)\n",
    "\n",
    "# 计算每个国家队的比赛数\n",
    "total_matches = world_cup_matches['Home Team Initials'].value_counts() + world_cup_matches['Away Team Initials'].value_counts()\n",
    "\n",
    "# 计算每个国家队的平均进球数\n",
    "average_goals = total_goals / total_matches\n",
    "average_goals = average_goals.sort_values(ascending=False)\n",
    "\n",
    "# 发生黄牌或红牌的队伍\n",
    "card_events = world_cup_players['Event'].apply(lambda x: 'Y' in x or 'R' in x)\n",
    "# print('card_events:', card_events)\n",
    "card_teams = world_cup_players[card_events]['Team Initials']\n",
    "# print('card_teams:', card_teams)\n",
    "\n",
    "# 计算每个队伍的黄牌或红牌数\n",
    "card_counts = card_teams.value_counts()\n",
    "average_cards = card_counts / total_matches\n",
    "\n",
    "\n",
    "bar_width = 0.35\n",
    "# 创建一个新的DataFrame，包含每个队伍的进球数和红/黄牌数\n",
    "team_stats = pd.DataFrame({\n",
    "    'Goals': average_goals,\n",
    "    'Cards': average_cards\n",
    "})\n",
    "\n",
    "# 按进球数从多到少排序\n",
    "team_stats = team_stats.sort_values(by='Goals', ascending=False)\n",
    "\n",
    "# 创建进球数的柱状图\n",
    "bar1 = (\n",
    "  Bar(init_opts=opts.InitOpts(width='100%'))\n",
    "  .add_xaxis(team_stats.index.tolist())\n",
    "  .add_yaxis(\"Goals\", team_stats['Goals'].round(1).tolist(), color='lightblue', \n",
    "             label_opts=opts.LabelOpts(is_show=False))\n",
    "  .extend_axis(\n",
    "    yaxis=opts.AxisOpts(\n",
    "      type_=\"value\",\n",
    "      name=\"Cards\",\n",
    "      min_=0,\n",
    "      max_=5,\n",
    "      position=\"right\",\n",
    "      axisline_opts=opts.AxisLineOpts(\n",
    "        linestyle_opts=opts.LineStyleOpts(color=\"red\")\n",
    "      ),\n",
    "      axislabel_opts=opts.LabelOpts(formatter=\"{value}\"),\n",
    "    )\n",
    "  )\n",
    "  .set_global_opts(\n",
    "    title_opts=opts.TitleOpts(title=\"国家队场均进球数和红/黄牌数\"),\n",
    "    xaxis_opts=opts.AxisOpts(axislabel_opts=opts.LabelOpts(rotate=75, font_size=12)),\n",
    "    )\n",
    ")\n",
    "\n",
    "# 创建红/黄牌数的柱状图\n",
    "bar2 = (\n",
    "  Bar()\n",
    "  .add_xaxis(team_stats.index.tolist())\n",
    "  .add_yaxis(\"Cards\", team_stats['Cards'].round(1).tolist(), color='pink', yaxis_index=1, \n",
    "             label_opts=opts.LabelOpts(is_show=False))\n",
    ")\n",
    "\n",
    "# 将两个柱状图重叠在一起\n",
    "bar1.overlap(bar2)\n",
    "bar1.render('.\\\\results\\\\国家队场均进球数和红黄牌数.html')"
   ]
  },
  {
   "cell_type": "markdown",
   "metadata": {},
   "source": [
    "### 队伍进入前三次数"
   ]
  },
  {
   "cell_type": "code",
   "execution_count": null,
   "metadata": {},
   "outputs": [],
   "source": [
    "\n",
    "# 世界杯前三名队伍柱状图\n",
    "top_continents = pd.concat([world_cups_summary['Winner'], world_cups_summary['Second'], world_cups_summary['Third']])\n",
    "\n",
    "# 统计每个大洲的次数\n",
    "continent_counts = top_continents.value_counts()\n",
    "\n",
    "# 创建柱状图\n",
    "bar = (\n",
    "  Bar()\n",
    "  .add_xaxis(continent_counts.index.tolist())\n",
    "  .add_yaxis(\"\", continent_counts.values.tolist(), label_opts=opts.LabelOpts(is_show=True))\n",
    "  .set_global_opts(title_opts=opts.TitleOpts(title=\"队伍进入前三名次数柱状图\"),\n",
    "                   xaxis_opts=opts.AxisOpts(axislabel_opts=opts.LabelOpts(rotate=60, interval=0))\n",
    "                   )\n",
    ")\n",
    "\n",
    "# 显示图表\n",
    "bar.render('.\\\\results\\\\队伍进入前三名次数柱状图.html')\n"
   ]
  },
  {
   "cell_type": "markdown",
   "metadata": {},
   "source": [
    "## 人员"
   ]
  },
  {
   "cell_type": "code",
   "execution_count": 19,
   "metadata": {},
   "outputs": [
    {
     "data": {
      "text/plain": [
       "'d:\\\\D\\\\2023_Fall\\\\required_course\\\\dvisual\\\\exps\\\\exp3\\\\worldcup\\\\results\\\\主裁出现频率词云.html'"
      ]
     },
     "execution_count": 19,
     "metadata": {},
     "output_type": "execute_result"
    }
   ],
   "source": [
    "from pyecharts.charts import WordCloud\n",
    "\n",
    "# 统计每个主裁的出现次数\n",
    "referee_counts = world_cup_matches['Referee'].value_counts()\n",
    "\n",
    "# 创建词云\n",
    "wordcloud = (\n",
    "  WordCloud()\n",
    "  .add(\"\", [list(z) for z in zip(referee_counts.index.tolist(), referee_counts.values.tolist())], word_size_range=[20, 100])\n",
    "  .set_global_opts(title_opts=opts.TitleOpts(title=\"主裁出现频率词云\"))\n",
    ")\n",
    "\n",
    "# 显示词云\n",
    "wordcloud.render('.\\\\results\\\\主裁出现频率词云.html')\n"
   ]
  },
  {
   "cell_type": "code",
   "execution_count": 38,
   "metadata": {},
   "outputs": [
    {
     "data": {
      "text/plain": [
       "'d:\\\\D\\\\2023_Fall\\\\required_course\\\\dvisual\\\\exps\\\\exp3\\\\worldcup\\\\results\\\\总进球数前十的球员.html'"
      ]
     },
     "execution_count": 38,
     "metadata": {},
     "output_type": "execute_result"
    }
   ],
   "source": [
    "# 进球数前十的球员\n",
    "# 提取出进球事件\n",
    "world_cup_players['Goal'] = world_cup_players['Event'].apply(lambda x: 'G' in str(x))\n",
    "\n",
    "# 对每个球员的进球数进行计数\n",
    "player_goals = world_cup_players[world_cup_players['Goal'] == True]['Player Name'].value_counts()\n",
    "\n",
    "# 获取进球数前十的球员\n",
    "top_10_scorers = player_goals.head(15)\n",
    "\n",
    "# print(top_10_scorers)\n",
    "\n",
    "# 创建标签云\n",
    "wordcloud = (\n",
    "    WordCloud()\n",
    "    .add(\"\", [list(z) for z in zip(top_10_scorers.index.tolist(), top_10_scorers.values.tolist())])\n",
    "    .set_global_opts(title_opts=opts.TitleOpts(title=\"历届世界杯总进球数前十的球员\"))\n",
    ")\n",
    "\n",
    "# 显示标签云\n",
    "wordcloud.render(\".\\\\results\\\\总进球数前十的球员.html\")"
   ]
  }
 ],
 "metadata": {
  "kernelspec": {
   "display_name": "Python 3",
   "language": "python",
   "name": "python3"
  },
  "language_info": {
   "codemirror_mode": {
    "name": "ipython",
    "version": 3
   },
   "file_extension": ".py",
   "mimetype": "text/x-python",
   "name": "python",
   "nbconvert_exporter": "python",
   "pygments_lexer": "ipython3",
   "version": "3.11.3"
  }
 },
 "nbformat": 4,
 "nbformat_minor": 2
}
