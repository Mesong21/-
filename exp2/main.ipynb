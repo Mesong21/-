{
 "cells": [
  {
   "cell_type": "code",
   "execution_count": 15,
   "metadata": {},
   "outputs": [
    {
     "data": {
      "text/plain": [
       "'d:\\\\D\\\\2023_Fall\\\\required_course\\\\data_visualization\\\\exps\\\\exp2\\\\results\\\\weibo.html'"
      ]
     },
     "execution_count": 15,
     "metadata": {},
     "output_type": "execute_result"
    }
   ],
   "source": [
    "import json\n",
    "from pyecharts import options as opts\n",
    "from pyecharts.charts import Graph, Page\n",
    "\n",
    "with open(r\"./data/weibo.json\", \"r\", encoding=\"utf-8\") as f:\n",
    "          j = json.load(f)\n",
    "          nodes, links, categories, cont, mid, userl = j\n",
    "\n",
    "graph= (Graph()\n",
    "         .add(\"\", nodes, links, categories, repulsion=50,\n",
    "             linestyle_opts=opts.LineStyleOpts(curve=0.2),\n",
    "             label_opts=opts.LabelOpts(is_show=False) )\n",
    "         .set_global_opts(legend_opts=opts.LegendOpts(is_show=False),\n",
    "             title_opts=opts.TitleOpts(title=\"Graph-微博转发关系图\")))\n",
    "graph.render('./results/weibo.html')\n"
   ]
  },
  {
   "cell_type": "code",
   "execution_count": 3,
   "metadata": {},
   "outputs": [
    {
     "data": {
      "text/plain": [
       "'d:\\\\D\\\\2023_Fall\\\\required_course\\\\data_visualization\\\\exps\\\\exp2\\\\results\\\\hot_searches.html'"
      ]
     },
     "execution_count": 3,
     "metadata": {},
     "output_type": "execute_result"
    }
   ],
   "source": [
    "import requests\n",
    "from bs4 import BeautifulSoup\n",
    "from pyecharts import options as opts\n",
    "from pyecharts.charts import Page, WordCloud\n",
    "from pyecharts.globals import SymbolType\n",
    "import matplotlib.pyplot as plt\n",
    "from lxml import etree\n",
    "\n",
    "# 获取百度热搜榜的网页内容\n",
    "url = \"https://top.baidu.com/board?platform=wise\"\n",
    "response = requests.get(url)\n",
    "# 将text导出至文件\n",
    "# with open('./results/response.html', 'w', encoding='utf-8') as f:\n",
    "#   f.write(response.text)\n",
    "soup = BeautifulSoup(response.text, 'html.parser')\n",
    "# 提取出热搜词条和它们的排名\n",
    "# 使用CSS选择器获取元素\n",
    "elements = soup.select('div.row-start-center.zkwvwdF0VfxBzs7BSEZ1A div._2iegwST7utDAJiwI_rZCXM > span')\n",
    "hot_searches = {}\n",
    "for i, element in enumerate(elements, 1):\n",
    "  if i > 20:  # 只需要前20个热搜词条\n",
    "    break\n",
    "  hot_searches[element.contents[0]] = 21 - i  # 排名越高，权重越大\n",
    "\n",
    "\n",
    "# 生成词云\n",
    "\n",
    "wordcloud = WordCloud()\n",
    "# wordcloud = WordCloud(init_opts=opts.InitOpts(width='100%', height='100%'))\n",
    "wordcloud.add(\"\", hot_searches.items(), word_size_range=[10, 40])\n",
    "wordcloud.set_global_opts(title_opts=opts.TitleOpts(title=\"Baidu Hot Searches\"))\n",
    "wordcloud.render(\"./results/hot_searches.html\")"
   ]
  },
  {
   "cell_type": "code",
   "execution_count": 10,
   "metadata": {},
   "outputs": [
    {
     "data": {
      "text/plain": [
       "'d:\\\\D\\\\2023_Fall\\\\required_course\\\\data_visualization\\\\exps\\\\exp2\\\\results\\\\all_students.html'"
      ]
     },
     "execution_count": 10,
     "metadata": {},
     "output_type": "execute_result"
    }
   ],
   "source": [
    "# 3\n",
    "from pyecharts.charts import Bar \n",
    "from pyecharts import options as opts \n",
    "import pandas as pd\n",
    "\n",
    "def convert_to_int(num):\n",
    "    try:\n",
    "        return int(num)\n",
    "    except ValueError:\n",
    "        return 0\n",
    "\n",
    "df = pd.read_excel('./data/student.xls')\n",
    "for col in df.columns[4:10]:\n",
    "    df[col] = df[col].apply(convert_to_int)\n",
    "    \n",
    "## 总分\n",
    "df['总分'] = df.loc[:, '英语':'解几'].sum(axis=1)\n",
    "# print(df['总分'])\n",
    "bar = (Bar()\n",
    "  .add_xaxis(df['姓名'].tolist())\n",
    "  .add_yaxis('总分', df['总分'].tolist())\n",
    "  .set_global_opts(title_opts=opts.TitleOpts(\n",
    "    title='学生成绩柱状图', \n",
    "    subtitle='学生姓名与总分'), \n",
    "    toolbox_opts=opts.ToolboxOpts(), \n",
    "    legend_opts=opts.LegendOpts(is_show=True)))\n",
    "# 柱状图各总分\n",
    "bar.render('./results/all_students.html')\n",
    "\n"
   ]
  },
  {
   "cell_type": "code",
   "execution_count": 28,
   "metadata": {},
   "outputs": [
    {
     "data": {
      "text/plain": [
       "'d:\\\\D\\\\2023_Fall\\\\required_course\\\\data_visualization\\\\exps\\\\exp2\\\\results\\\\top3.html'"
      ]
     },
     "execution_count": 28,
     "metadata": {},
     "output_type": "execute_result"
    }
   ],
   "source": [
    "# 饼图前三名\n",
    "from pyecharts.charts import Pie, Grid\n",
    "top3 = df.sort_values(by='总分', ascending=False).head(3)\n",
    "# print(type(top3))\n",
    "grid = Grid()\n",
    "\n",
    "for i, (index, student) in enumerate(top3.iterrows()):\n",
    "  scores = student[['英语', '体育', '军训', '数分', '高代', '解几']]\n",
    "  pie = (Pie()\n",
    "    .add(\"\", [list(z) for z in zip(scores.index.tolist(), scores.tolist())])\n",
    "    .set_global_opts(title_opts=opts.TitleOpts(title=f\" {student['姓名']} 的成绩饼图\"))\n",
    "    .set_series_opts(label_opts=opts.LabelOpts(formatter=\"{b}: {c}\"))\n",
    "  )\n",
    "  pie.render(f'./results/{student[\"姓名\"]}.html')\n",
    "  grid.add(pie, grid_opts=opts.GridOpts(pos_left=f'{30*(i+1)}30%', pos_top='10%', width='30%', height='80%'))\n",
    "  \n",
    "grid.render('./results/top3.html') # 有问题"
   ]
  },
  {
   "cell_type": "code",
   "execution_count": 30,
   "metadata": {},
   "outputs": [
    {
     "data": {
      "text/plain": [
       "'d:\\\\D\\\\2023_Fall\\\\required_course\\\\data_visualization\\\\exps\\\\exp2\\\\results\\\\四门课程成绩分布折线图.html'"
      ]
     },
     "execution_count": 30,
     "metadata": {},
     "output_type": "execute_result"
    }
   ],
   "source": [
    "# 英语，数分，高代，解几四门课程的成绩分布图\n",
    "from pyecharts.charts import Line\n",
    "from pyecharts import options as opts\n",
    "\n",
    "# 创建分数段\n",
    "bins = list(range(0, 101, 10))\n",
    "labels = [f'{i}-{i+10}' for i in range(0, 100, 10)]\n",
    "\n",
    "line = Line()\n",
    "\n",
    "for course in ['英语', '数分', '高代', '解几']:\n",
    "  df[course + '_分数段'] = pd.cut(df[course], bins=bins, labels=labels, right=False)\n",
    "  counts = df[course + '_分数段'].value_counts().sort_index()\n",
    "  line.add_xaxis(labels)\n",
    "  line.add_yaxis(course, counts.tolist())\n",
    "\n",
    "# 设置图表的标题和标签格式\n",
    "line.set_global_opts(title_opts=opts.TitleOpts(title=\"四门课程的成绩分布折线图\"),\n",
    "           xaxis_opts=opts.AxisOpts(name=\"分数段\"),\n",
    "           yaxis_opts=opts.AxisOpts(name=\"人数\"))\n",
    "\n",
    "line.render('./results/四门课程成绩分布折线图.html')"
   ]
  },
  {
   "cell_type": "code",
   "execution_count": 37,
   "metadata": {},
   "outputs": [
    {
     "data": {
      "text/plain": [
       "'d:\\\\D\\\\2023_Fall\\\\required_course\\\\data_visualization\\\\exps\\\\exp2\\\\results\\\\男女平均成绩对比.html'"
      ]
     },
     "execution_count": 37,
     "metadata": {},
     "output_type": "execute_result"
    }
   ],
   "source": [
    "# 利用柱状图展示男生和女生各科平均成绩的对比。\n",
    "from pyecharts.charts import Bar\n",
    "from pyecharts import options as opts\n",
    "from pyecharts.options import ItemStyleOpts\n",
    "\n",
    "# 计算男生和女生各科的平均成绩\n",
    "avg_scores_male = df[df['性别'] == '男'][['英语', '体育', '军训', '数分', '高代', '解几']].mean().round(2)\n",
    "avg_scores_female = df[df['性别'] == '女'][['英语', '体育', '军训', '数分', '高代', '解几']].mean().round(2)\n",
    "\n",
    "bar = (Bar()\n",
    "  .add_xaxis(['英语', '体育', '军训', '数分', '高代', '解几'])\n",
    "  .add_yaxis(\"男生\", avg_scores_male.tolist(), itemstyle_opts=ItemStyleOpts(color='lightblue'))\n",
    "  .add_yaxis(\"女生\", avg_scores_female.tolist(), itemstyle_opts=ItemStyleOpts(color='pink'))\n",
    "  .set_global_opts(title_opts=opts.TitleOpts(title=\"男生和女生各科平均成绩的对比柱状图\")))\n",
    "\n",
    "bar.render('./results/男女平均成绩对比.html')"
   ]
  }
 ],
 "metadata": {
  "kernelspec": {
   "display_name": "Python 3",
   "language": "python",
   "name": "python3"
  },
  "language_info": {
   "codemirror_mode": {
    "name": "ipython",
    "version": 3
   },
   "file_extension": ".py",
   "mimetype": "text/x-python",
   "name": "python",
   "nbconvert_exporter": "python",
   "pygments_lexer": "ipython3",
   "version": "3.11.3"
  }
 },
 "nbformat": 4,
 "nbformat_minor": 2
}
